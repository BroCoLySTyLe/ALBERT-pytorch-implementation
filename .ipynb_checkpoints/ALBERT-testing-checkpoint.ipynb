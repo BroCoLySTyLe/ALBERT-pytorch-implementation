{
 "cells": [
  {
   "cell_type": "code",
   "execution_count": 1,
   "id": "further-daily",
   "metadata": {},
   "outputs": [
    {
     "name": "stdout",
     "output_type": "stream",
     "text": [
      "torch.Size([3, 10])\n",
      "torch.Size([3, 10])\n",
      "tensor([[25885, 24602, 25995,  3168, 11855, 22019, 29125, 11645, 18627,  1148],\n",
      "        [12059,  4388, 27222, 22061,  1126,  3473, 14644, 23968, 18656, 13988],\n",
      "        [23768, 15669,  5881, 15611, 12298, 28853, 13876, 12941,  5658, 24479]],\n",
      "       device='cuda:0')\n",
      "tensor([[0, 0, 0, 0, 0, 0, 0, 0, 0, 0],\n",
      "        [0, 0, 0, 0, 0, 1, 1, 1, 1, 1],\n",
      "        [1, 1, 1, 1, 1, 1, 1, 1, 1, 1]], device='cuda:0', dtype=torch.uint8)\n"
     ]
    }
   ],
   "source": [
    "import torch\n",
    "from ALBERT import ALBERT\n",
    "\n",
    "device = torch.device(\"cuda\" if torch.cuda.is_available() else \"cpu\")\n",
    "input_ids = torch.randint(0,29999,(3,10)).to(device)\n",
    "segment_ids = torch.IntTensor([[1]*10,[1]*5+[2]*5,[2]*10]).to(device)\n",
    "input_mask = torch.ByteTensor([[0]*10,[0]*5+[1]*5,[1]*10]).to(device)\n",
    "print (input_ids.shape)\n",
    "print (segment_ids.shape)\n",
    "print (input_mask.shape)\n",
    "print (input_ids)\n",
    "print (segment_ids)\n",
    "print (input_mask)"
   ]
  },
  {
   "cell_type": "code",
   "execution_count": 4,
   "id": "genetic-fisher",
   "metadata": {},
   "outputs": [
    {
     "data": {
      "text/plain": [
       "tensor([[[-0.1259, -2.1187,  0.1494,  ...,  0.4271,  0.4166, -0.6836],\n",
       "         [ 0.2570, -1.5374,  0.5902,  ...,  0.3415, -0.4182, -1.0185],\n",
       "         [ 0.0807,  0.0173,  0.5625,  ..., -0.1128, -0.0472, -0.4887],\n",
       "         ...,\n",
       "         [-0.0060, -2.1799,  0.1126,  ..., -0.3215, -0.3846, -1.1611],\n",
       "         [ 0.0783, -0.7530,  0.2588,  ...,  0.0000, -0.6104, -1.5367],\n",
       "         [-0.4565, -2.2303, -0.2201,  ..., -0.4161,  0.0000,  0.0000]],\n",
       "\n",
       "        [[ 0.2316, -1.2349, -0.7277,  ...,  0.0972,  0.2362,  0.0000],\n",
       "         [-0.4710, -1.3332,  0.0000,  ...,  0.5481,  0.0000, -0.8019],\n",
       "         [-0.0530, -0.8511,  0.0000,  ...,  0.5518,  0.0000, -0.6892],\n",
       "         ...,\n",
       "         [ 0.0000, -1.1383, -0.6013,  ...,  0.4623,  0.2036, -1.6960],\n",
       "         [-0.7566, -0.0988, -0.3931,  ...,  0.3595,  0.3176, -1.3102],\n",
       "         [-0.2283,  0.0000, -0.7064,  ...,  0.5705, -0.0028, -0.4836]],\n",
       "\n",
       "        [[-0.1818, -1.1830, -0.3470,  ...,  0.5838, -0.3777, -0.4733],\n",
       "         [ 0.5250, -0.5692, -1.0837,  ...,  0.5429, -0.4395,  0.2367],\n",
       "         [ 0.1661, -1.1597,  0.0000,  ...,  0.5691, -0.9428,  0.1515],\n",
       "         ...,\n",
       "         [-0.0767, -0.4044, -1.1340,  ...,  0.4251, -0.8432, -0.3605],\n",
       "         [-0.5477, -0.9953,  0.0000,  ...,  1.1590, -0.2856,  0.2623],\n",
       "         [ 0.0954, -0.8771,  0.0000,  ...,  0.3683, -0.3483, -0.5684]]],\n",
       "       device='cuda:0', grad_fn=<FusedDropoutBackward>)"
      ]
     },
     "execution_count": 4,
     "metadata": {},
     "output_type": "execute_result"
    }
   ],
   "source": [
    "albert_test=ALBERT(vocab_size=30000)\n",
    "albert_test.to(device)\n",
    "albert_test(input_idx, segment_idx, mask=input_mask)"
   ]
  },
  {
   "cell_type": "code",
   "execution_count": null,
   "id": "annual-cable",
   "metadata": {},
   "outputs": [],
   "source": []
  }
 ],
 "metadata": {
  "kernelspec": {
   "display_name": "Python 3",
   "language": "python",
   "name": "python3"
  },
  "language_info": {
   "codemirror_mode": {
    "name": "ipython",
    "version": 3
   },
   "file_extension": ".py",
   "mimetype": "text/x-python",
   "name": "python",
   "nbconvert_exporter": "python",
   "pygments_lexer": "ipython3",
   "version": "3.6.7"
  }
 },
 "nbformat": 4,
 "nbformat_minor": 5
}
