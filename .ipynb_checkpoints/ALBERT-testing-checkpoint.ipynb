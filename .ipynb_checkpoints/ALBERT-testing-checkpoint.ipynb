{
 "cells": [
  {
   "cell_type": "code",
   "execution_count": 1,
   "id": "modern-lunch",
   "metadata": {
    "trusted": false
   },
   "outputs": [
    {
     "name": "stdout",
     "output_type": "stream",
     "text": [
      "torch.Size([3, 10])\n",
      "torch.Size([3, 10])\n",
      "torch.Size([3, 10])\n",
      "tensor([[22278, 23152,  2813, 23186, 26364,  6394, 14112,  9039,   224,  9651],\n",
      "        [13403, 16652, 22647,  7759, 29053,  4409, 25198, 19395,  5215,  4468],\n",
      "        [ 7866, 20675, 10170, 20766, 23288, 24845, 24218,  9701, 12978, 22077]])\n",
      "tensor([[1, 1, 1, 1, 1, 1, 1, 1, 1, 1],\n",
      "        [1, 1, 1, 1, 1, 2, 2, 2, 2, 2],\n",
      "        [2, 2, 2, 2, 2, 2, 2, 2, 2, 2]], dtype=torch.int32)\n",
      "tensor([[0, 0, 0, 0, 0, 0, 0, 0, 0, 0],\n",
      "        [0, 0, 0, 0, 0, 1, 1, 1, 1, 1],\n",
      "        [1, 1, 1, 1, 1, 1, 1, 1, 1, 1]], dtype=torch.uint8)\n"
     ]
    }
   ],
   "source": "import torch\nfrom ALBERT import ALBERT\ninput_idx = torch.randint(0,29999,(3,10))\nsegment_idx = torch.IntTensor([[1]*10,[1]*5+[2]*5,[2]*10])\ninput_mask = torch.ByteTensor([[0]*10,[0]*5+[1]*5,[1]*10])\nprint (input_idx.shape)\nprint (segment_idx.shape)\nprint (input_mask.shape)\nprint (input_idx)\nprint (segment_idx)\nprint (input_mask)"
  },
  {
   "cell_type": "code",
   "execution_count": 2,
   "id": "recognized-retailer",
   "metadata": {
    "trusted": false
   },
   "outputs": [
    {
     "data": {
      "text/plain": "tensor([[[-1.9325,  1.2189,  1.7144,  ..., -1.4287, -0.4583, -0.4262],\n         [-0.0000,  1.4377,  1.0474,  ..., -0.0000, -1.0012, -0.7657],\n         [-1.1378,  0.9039,  0.0000,  ..., -0.4426, -0.0252, -0.4309],\n         ...,\n         [-1.7895,  1.0364,  0.7008,  ..., -1.8062, -0.9419, -0.3800],\n         [-1.5757,  0.5694,  1.1263,  ..., -0.0000, -0.0000, -0.1178],\n         [-1.4379,  1.2527, -0.1855,  ..., -1.3927, -0.0000, -0.3201]],\n\n        [[-0.0000, -0.0063,  1.5681,  ..., -1.2737, -3.0327, -0.4692],\n         [-2.2422, -0.0593,  2.2732,  ..., -0.2481, -3.1360, -0.2121],\n         [-1.6273, -0.1080,  1.8503,  ..., -1.4953, -1.0807, -0.6510],\n         ...,\n         [-0.8698, -0.3458,  1.3527,  ..., -1.3133, -2.7216, -0.8886],\n         [-0.9679,  0.3362,  1.8857,  ..., -0.4722, -2.2726, -0.0000],\n         [-1.5556,  0.0550,  2.3723,  ..., -0.9375, -2.0840, -0.4100]],\n\n        [[-1.0001,  0.1741,  0.2782,  ..., -1.2930, -0.9507, -1.1475],\n         [-0.5583,  0.4336, -0.4789,  ..., -0.4169, -1.6205, -1.0355],\n         [-0.9268,  1.4631, -0.2208,  ..., -1.7484, -1.2182, -1.0745],\n         ...,\n         [-0.0000,  1.7331,  0.0387,  ..., -0.8475, -0.7042, -1.1083],\n         [-1.5652,  0.3725,  0.0000,  ..., -1.4580, -0.0000, -0.0000],\n         [-0.4642,  0.0000, -0.1156,  ..., -0.7089, -2.1002, -0.8898]]],\n       grad_fn=<MulBackward0>)"
     },
     "execution_count": 2,
     "metadata": {},
     "output_type": "execute_result"
    }
   ],
   "source": "albert_test=ALBERT(vocab_size=30000)\nalbert_test(input_idx, segment_idx, mask=input_mask)"
  },
  {
   "cell_type": "code",
   "execution_count": null,
   "id": "alive-characteristic",
   "metadata": {
    "trusted": false
   },
   "outputs": [],
   "source": ""
  }
 ],
 "metadata": {
  "kernelspec": {
   "display_name": "Python 3",
   "language": "python",
   "name": "python3"
  },
  "language_info": {
   "codemirror_mode": {
    "name": "ipython",
    "version": 3
   },
   "file_extension": ".py",
   "mimetype": "text/x-python",
   "name": "python",
   "nbconvert_exporter": "python",
   "pygments_lexer": "ipython3",
   "version": "3.6.7"
  }
 },
 "nbformat": 4,
 "nbformat_minor": 5
}