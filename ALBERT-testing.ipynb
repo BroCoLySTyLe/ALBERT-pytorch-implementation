{
 "cells": [
  {
   "cell_type": "code",
   "execution_count": 1,
   "id": "similar-collection",
   "metadata": {},
   "outputs": [
    {
     "name": "stdout",
     "output_type": "stream",
     "text": [
      "torch.Size([3, 10])\n",
      "torch.Size([3, 10])\n",
      "torch.Size([3, 10])\n",
      "tensor([[22603, 29094, 26425,  4740, 28638, 13064,  8845, 12303, 26787, 16634],\n",
      "        [21375,  2121, 13654,  9202, 11530, 15003, 15487, 13376, 24763, 15495],\n",
      "        [ 4933, 23243,  3440,  6048, 18018,  9184, 12074, 10785, 10136, 18272]],\n",
      "       device='cuda:0')\n",
      "tensor([[1, 1, 1, 1, 1, 1, 1, 1, 1, 1],\n",
      "        [1, 1, 1, 1, 1, 2, 2, 2, 2, 2],\n",
      "        [2, 2, 2, 2, 2, 2, 2, 2, 2, 2]], device='cuda:0', dtype=torch.int32)\n",
      "tensor([[0, 0, 0, 0, 0, 0, 0, 0, 0, 0],\n",
      "        [0, 0, 0, 0, 0, 1, 1, 1, 1, 1],\n",
      "        [1, 1, 1, 1, 1, 1, 1, 1, 1, 1]], device='cuda:0', dtype=torch.uint8)\n"
     ]
    }
   ],
   "source": [
    "import torch\n",
    "from ALBERT import ALBERT\n",
    "\n",
    "device = torch.device(\"cuda\" if torch.cuda.is_available() else \"cpu\")\n",
    "input_ids = torch.randint(0,29999,(3,10)).to(device)\n",
    "segment_ids = torch.IntTensor([[1]*10,[1]*5+[2]*5,[2]*10]).to(device)\n",
    "input_mask = torch.ByteTensor([[0]*10,[0]*5+[1]*5,[1]*10]).to(device)\n",
    "print (input_ids.shape)\n",
    "print (segment_ids.shape)\n",
    "print (input_mask.shape)\n",
    "print (input_ids)\n",
    "print (segment_ids)\n",
    "print (input_mask)"
   ]
  },
  {
   "cell_type": "code",
   "execution_count": 2,
   "id": "corresponding-tobago",
   "metadata": {},
   "outputs": [
    {
     "data": {
      "text/plain": [
       "tensor([[[-0.0254, -0.6502,  0.1421,  ...,  0.0000,  1.2010,  0.3922],\n",
       "         [-0.0148, -0.2875,  0.1559,  ..., -0.6799,  0.7081,  0.0000],\n",
       "         [ 0.0000, -0.6011,  0.2615,  ..., -0.0451,  0.9782,  0.4240],\n",
       "         ...,\n",
       "         [-0.2480,  0.0966,  0.5689,  ..., -0.2599,  0.4671,  0.2412],\n",
       "         [ 0.4441, -0.3497,  0.0766,  ..., -0.7912,  0.7698,  0.2481],\n",
       "         [ 0.5292, -0.9782,  0.1515,  ..., -0.6276,  1.0836,  0.6374]],\n",
       "\n",
       "        [[ 1.7773, -1.3443, -0.3104,  ...,  1.4955, -1.4347,  0.0783],\n",
       "         [ 1.8091,  0.0000, -0.1976,  ...,  2.4167, -1.2018, -0.3464],\n",
       "         [ 0.2934, -2.0956, -0.5552,  ...,  0.0000, -1.5302, -1.2321],\n",
       "         ...,\n",
       "         [ 1.6159, -2.3950, -0.1674,  ...,  0.0000, -1.9262, -0.8608],\n",
       "         [ 1.2147, -1.3560, -0.2912,  ...,  1.4389, -1.6210, -1.2904],\n",
       "         [ 2.1143, -1.5429,  0.3506,  ...,  2.8200,  0.1002, -1.7218]],\n",
       "\n",
       "        [[ 0.8098, -0.5121,  0.3600,  ...,  2.4437, -0.9954, -0.2822],\n",
       "         [ 0.5011, -0.3741,  0.6016,  ...,  2.2364, -0.0582, -0.2991],\n",
       "         [ 0.0000, -0.6760,  0.2064,  ...,  1.8259, -0.0942,  0.0603],\n",
       "         ...,\n",
       "         [ 0.5648, -0.4271, -0.0201,  ...,  1.7156, -0.7077, -0.1735],\n",
       "         [ 0.8381, -0.8613,  0.3013,  ...,  2.1644, -0.4867, -0.8190],\n",
       "         [ 0.8171, -0.7844,  0.0394,  ...,  1.4740, -0.2906, -0.4200]]],\n",
       "       device='cuda:0', grad_fn=<FusedDropoutBackward>)"
      ]
     },
     "execution_count": 2,
     "metadata": {},
     "output_type": "execute_result"
    }
   ],
   "source": [
    "albert_test=ALBERT(vocab_size=30000)\n",
    "albert_test.to(device)\n",
    "albert_test(input_ids, segment_ids, mask=input_mask)"
   ]
  },
  {
   "cell_type": "code",
   "execution_count": null,
   "id": "convenient-beginning",
   "metadata": {},
   "outputs": [],
   "source": []
  }
 ],
 "metadata": {
  "kernelspec": {
   "display_name": "Python 3",
   "language": "python",
   "name": "python3"
  },
  "language_info": {
   "codemirror_mode": {
    "name": "ipython",
    "version": 3
   },
   "file_extension": ".py",
   "mimetype": "text/x-python",
   "name": "python",
   "nbconvert_exporter": "python",
   "pygments_lexer": "ipython3",
   "version": "3.6.7"
  }
 },
 "nbformat": 4,
 "nbformat_minor": 5
}
