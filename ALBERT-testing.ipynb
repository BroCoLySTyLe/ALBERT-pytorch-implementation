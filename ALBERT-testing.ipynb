{
 "cells": [
  {
   "cell_type": "code",
   "execution_count": 1,
   "id": "similar-collection",
   "metadata": {},
   "outputs": [
    {
     "name": "stdout",
     "output_type": "stream",
     "text": [
      "torch.Size([3, 10])\n",
      "torch.Size([3, 10])\n",
      "torch.Size([3, 10])\n",
      "tensor([[27153, 11711, 13233,  6173, 20162, 15346, 14525, 28762,  6104, 27909],\n",
      "        [ 9309, 24034, 15046,  6381, 21024, 17461,  2835,  4841, 13561, 28195],\n",
      "        [28977,  2475, 16793,  2647,   553, 24497,  8931, 29409, 10127, 16851]],\n",
      "       device='cuda:0')\n",
      "tensor([[1, 1, 1, 1, 1, 1, 1, 1, 1, 1],\n",
      "        [1, 1, 1, 1, 1, 2, 2, 2, 2, 2],\n",
      "        [2, 2, 2, 2, 2, 2, 2, 2, 2, 2]], device='cuda:0', dtype=torch.int32)\n",
      "tensor([[False, False, False, False, False, False, False, False, False, False],\n",
      "        [False, False, False, False, False,  True,  True,  True,  True,  True],\n",
      "        [ True,  True,  True,  True,  True,  True,  True,  True,  True,  True]],\n",
      "       device='cuda:0')\n"
     ]
    }
   ],
   "source": [
    "import torch\n",
    "from ALBERT import ALBERT\n",
    "\n",
    "\n",
    "device = torch.device(\"cuda\" if torch.cuda.is_available() else \"cpu\")\n",
    "input_ids = torch.randint(0,29999,(3,10)).to(device)\n",
    "\n",
    "segment_ids = torch.IntTensor([[1]*10,[1]*5+[2]*5,[2]*10]).to(device)\n",
    "input_mask = torch.BoolTensor([[0]*10,[0]*5+[1]*5,[1]*10]).to(device)\n",
    "\n",
    "print (input_ids.shape)\n",
    "print (segment_ids.shape)\n",
    "print (input_mask.shape)\n",
    "print (input_ids)\n",
    "print (segment_ids)\n",
    "print (input_mask)"
   ]
  },
  {
   "cell_type": "code",
   "execution_count": 2,
   "id": "corresponding-tobago",
   "metadata": {
    "tags": []
   },
   "outputs": [
    {
     "data": {
      "text/plain": [
       "tensor([[[-0.1460, -0.3908, -0.0000,  ...,  2.8460, -1.6517,  0.2239],\n",
       "         [-0.3096, -1.0596, -1.0500,  ...,  2.7090, -1.0295,  0.3477],\n",
       "         [-0.1987, -0.1221, -0.2979,  ...,  2.1282, -0.3802,  0.0000],\n",
       "         ...,\n",
       "         [-0.0000, -1.3833, -0.8951,  ...,  0.0000, -1.6178,  0.4568],\n",
       "         [-0.0984, -0.2223, -0.0000,  ...,  1.9929, -0.6424,  0.0000],\n",
       "         [-0.2785, -0.6191, -0.5724,  ...,  1.7890, -0.7874,  0.1589]],\n",
       "\n",
       "        [[-0.7803, -0.0000,  0.3691,  ...,  1.5665,  0.0165, -0.0000],\n",
       "         [-0.3866, -1.5682,  0.1901,  ...,  0.0000,  0.1333, -0.7988],\n",
       "         [-0.6900, -1.4378,  0.3943,  ...,  0.5747,  0.2551, -0.2813],\n",
       "         ...,\n",
       "         [-0.6489, -2.1588,  0.7515,  ...,  0.0000, -0.0172, -0.0000],\n",
       "         [-1.0635, -1.7951,  0.6817,  ...,  1.5353,  0.0000, -0.8055],\n",
       "         [-0.8528, -2.2001,  0.0865,  ...,  1.9614,  0.3373, -1.2776]],\n",
       "\n",
       "        [[ 0.7878, -2.4814, -0.1794,  ...,  1.5990, -0.1475, -0.3621],\n",
       "         [ 0.4807, -1.6823,  0.1686,  ...,  1.6323, -0.0238, -0.4160],\n",
       "         [ 0.6739, -2.4315,  0.0703,  ...,  1.1276, -0.2945, -1.4435],\n",
       "         ...,\n",
       "         [ 0.4567, -2.0393,  0.2369,  ...,  0.4405,  0.0347, -1.2590],\n",
       "         [ 0.3078, -1.9962, -0.6821,  ...,  0.0000, -0.1154, -1.1994],\n",
       "         [ 0.7511, -1.1480,  0.3245,  ...,  1.8368, -0.2055, -1.3708]]],\n",
       "       device='cuda:0', grad_fn=<FusedDropoutBackward0>)"
      ]
     },
     "execution_count": 2,
     "metadata": {},
     "output_type": "execute_result"
    }
   ],
   "source": [
    "albert_test=ALBERT(vocab_size=30000)\n",
    "albert_test.to(device)\n",
    "albert_test(input_ids, segment_ids, mask=input_mask)"
   ]
  },
  {
   "cell_type": "code",
   "execution_count": null,
   "id": "21706337-1c98-4a78-99cb-f1be57c97f5a",
   "metadata": {},
   "outputs": [],
   "source": []
  }
 ],
 "metadata": {
  "kernelspec": {
   "display_name": "Python 3",
   "language": "python",
   "name": "python3"
  },
  "language_info": {
   "codemirror_mode": {
    "name": "ipython",
    "version": 3
   },
   "file_extension": ".py",
   "mimetype": "text/x-python",
   "name": "python",
   "nbconvert_exporter": "python",
   "pygments_lexer": "ipython3",
   "version": "3.6.9"
  }
 },
 "nbformat": 4,
 "nbformat_minor": 5
}
