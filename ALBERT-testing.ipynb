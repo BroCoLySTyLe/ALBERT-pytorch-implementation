{
 "cells": [
  {
   "cell_type": "code",
   "execution_count": 1,
   "id": "canadian-intellectual",
   "metadata": {},
   "outputs": [
    {
     "name": "stdout",
     "output_type": "stream",
     "text": [
      "torch.Size([3, 10])\n",
      "torch.Size([3, 10])\n",
      "torch.Size([3, 10])\n",
      "tensor([[19482, 10940, 26702, 10668,  1679,  5078, 14102, 20786,   845, 11266],\n",
      "        [ 6183, 22969, 29369,  7566,  3648, 14608,   623, 16859, 21676,  9110],\n",
      "        [13552, 26528, 15214,  7877, 24214, 28178, 15943,  8540,  1133, 22627]],\n",
      "       device='cuda:0')\n",
      "tensor([[1, 1, 1, 1, 1, 1, 1, 1, 1, 1],\n",
      "        [1, 1, 1, 1, 1, 2, 2, 2, 2, 2],\n",
      "        [2, 2, 2, 2, 2, 2, 2, 2, 2, 2]], device='cuda:0', dtype=torch.int32)\n",
      "tensor([[0, 0, 0, 0, 0, 0, 0, 0, 0, 0],\n",
      "        [0, 0, 0, 0, 0, 1, 1, 1, 1, 1],\n",
      "        [1, 1, 1, 1, 1, 1, 1, 1, 1, 1]], device='cuda:0', dtype=torch.uint8)\n"
     ]
    }
   ],
   "source": [
    "import torch\n",
    "from ALBERT import ALBERT\n",
    "\n",
    "device = torch.device(\"cuda\" if torch.cuda.is_available() else \"cpu\")\n",
    "input_idx = torch.randint(0,29999,(3,10)).to(device)\n",
    "segment_idx = torch.IntTensor([[1]*10,[1]*5+[2]*5,[2]*10]).to(device)\n",
    "input_mask = torch.ByteTensor([[0]*10,[0]*5+[1]*5,[1]*10]).to(device)\n",
    "print (input_idx.shape)\n",
    "print (segment_idx.shape)\n",
    "print (input_mask.shape)\n",
    "print (input_idx)\n",
    "print (segment_idx)\n",
    "print (input_mask)"
   ]
  },
  {
   "cell_type": "code",
   "execution_count": 2,
   "id": "spoken-collectible",
   "metadata": {},
   "outputs": [
    {
     "data": {
      "text/plain": [
       "tensor([[[-0.0820, -0.1586, -0.1088,  ...,  1.7836,  0.3999, -0.3212],\n",
       "         [-0.7560, -1.2724, -0.1078,  ...,  2.1661,  0.4731,  0.0364],\n",
       "         [-0.7376,  0.0000, -0.5560,  ...,  2.0039,  0.0876, -0.1021],\n",
       "         ...,\n",
       "         [-0.9014, -0.1411, -0.1612,  ...,  1.3203, -0.0229, -0.4166],\n",
       "         [ 0.0000, -1.7113, -0.6906,  ...,  2.1389,  0.3207,  0.0951],\n",
       "         [-1.1174, -0.0623,  0.1307,  ...,  1.5086,  0.8101, -0.0490]],\n",
       "\n",
       "        [[ 1.6444, -0.2100, -1.1235,  ...,  0.0145, -0.7074, -1.3222],\n",
       "         [ 0.5272, -0.0918, -1.2473,  ...,  2.0026, -0.6385,  0.0000],\n",
       "         [ 0.9157, -0.0539,  0.3174,  ...,  2.0556, -0.0969, -1.2025],\n",
       "         ...,\n",
       "         [ 0.1032, -0.0970,  0.0000,  ...,  3.4847, -0.1487, -1.1835],\n",
       "         [ 0.4567, -0.4913,  0.2438,  ...,  2.0918, -0.5493, -1.5794],\n",
       "         [ 1.5445, -0.2156, -0.8447,  ...,  0.0000, -0.3859, -0.8612]],\n",
       "\n",
       "        [[-0.0451, -0.6930,  1.3768,  ...,  2.4732, -1.3545, -0.9469],\n",
       "         [ 0.0000, -0.5478,  0.6490,  ...,  1.5073, -1.2210,  0.1750],\n",
       "         [ 0.9623, -1.1740,  0.0000,  ...,  1.5079, -1.1987, -0.1560],\n",
       "         ...,\n",
       "         [ 0.5828, -1.3776,  0.7387,  ...,  1.1395, -0.9508, -1.5720],\n",
       "         [ 0.5328, -0.4295,  0.0000,  ...,  2.3430, -1.1745, -0.2343],\n",
       "         [ 0.7730,  0.0000,  1.4195,  ...,  2.2775, -0.1268, -0.5488]]],\n",
       "       device='cuda:0', grad_fn=<FusedDropoutBackward>)"
      ]
     },
     "execution_count": 2,
     "metadata": {},
     "output_type": "execute_result"
    }
   ],
   "source": [
    "albert_test=ALBERT(vocab_size=30000)\n",
    "albert_test.to(device)\n",
    "albert_test(input_idx, segment_idx, mask=input_mask)"
   ]
  }
 ],
 "metadata": {
  "kernelspec": {
   "display_name": "Python 3",
   "language": "python",
   "name": "python3"
  },
  "language_info": {
   "codemirror_mode": {
    "name": "ipython",
    "version": 3
   },
   "file_extension": ".py",
   "mimetype": "text/x-python",
   "name": "python",
   "nbconvert_exporter": "python",
   "pygments_lexer": "ipython3",
   "version": "3.6.7"
  }
 },
 "nbformat": 4,
 "nbformat_minor": 5
}
