{
 "cells": [
  {
   "cell_type": "code",
   "execution_count": 1,
   "id": "formal-project",
   "metadata": {},
   "outputs": [
    {
     "name": "stdout",
     "output_type": "stream",
     "text": [
      "torch.Size([3, 10])\n",
      "torch.Size([3, 10, 768])\n"
     ]
    }
   ],
   "source": [
    "import torch\n",
    "from ALBERT import ALBERT\n",
    "test_input = torch.rand([3,10,768])\n",
    "test_mask = torch.LongTensor([[0]*10,[0]*5+[1]*5,[1]*10])\n",
    "print (test_mask.shape)\n",
    "print (test_input.shape)"
   ]
  },
  {
   "cell_type": "code",
   "execution_count": 2,
   "id": "multiple-rings",
   "metadata": {},
   "outputs": [
    {
     "data": {
      "text/plain": [
       "tensor([[[-0.7917, -0.0113,  0.5282,  ..., -1.1278,  0.0000,  0.1856],\n",
       "         [-0.6778,  0.6097,  2.0444,  ..., -1.1266,  1.4729, -0.2930],\n",
       "         [-0.8633,  0.3706,  0.0000,  ..., -0.1674,  0.2193,  0.1071],\n",
       "         ...,\n",
       "         [ 0.1318,  0.2715,  1.4604,  ..., -1.1426,  0.1161,  0.0628],\n",
       "         [-0.9663,  0.4418,  1.3826,  ..., -0.7611,  0.3734,  0.0916],\n",
       "         [-0.4553,  0.5650,  1.0710,  ..., -0.9840,  1.2899, -0.1107]],\n",
       "\n",
       "        [[-0.1054, -1.5240, -0.6666,  ...,  1.0195,  0.0871, -0.0303],\n",
       "         [ 0.0837, -1.2587, -0.8135,  ...,  1.3532,  0.7008, -0.3738],\n",
       "         [-0.2442, -0.5291, -0.9843,  ...,  0.4876,  0.8066, -0.5253],\n",
       "         ...,\n",
       "         [-0.3209, -0.5284, -0.9193,  ...,  0.5541, -0.0071, -0.1771],\n",
       "         [-0.1223, -1.2066, -0.0000,  ...,  0.4138, -0.2053, -0.0243],\n",
       "         [ 0.1956, -1.7573, -0.5821,  ...,  1.5890,  0.0227, -0.0946]],\n",
       "\n",
       "        [[-1.4226, -0.3197,  0.0000,  ..., -0.3247, -0.2187,  0.6988],\n",
       "         [-1.3471, -0.4626,  0.8781,  ...,  0.1580, -0.0000,  0.3571],\n",
       "         [-0.0000,  0.0024,  1.1371,  ..., -0.2681, -0.3441,  0.3196],\n",
       "         ...,\n",
       "         [-0.0000, -0.3001,  1.4640,  ..., -0.0000, -0.7591,  0.5838],\n",
       "         [-1.8059, -0.7227,  0.6351,  ..., -0.2496, -0.7509,  1.2362],\n",
       "         [-1.9688, -0.3620,  0.8317,  ..., -0.1216, -0.5863,  0.4071]]],\n",
       "       grad_fn=<MulBackward0>)"
      ]
     },
     "execution_count": 2,
     "metadata": {},
     "output_type": "execute_result"
    }
   ],
   "source": [
    "albert_test=ALBERT()\n",
    "albert_test(test_input,test_mask)"
   ]
  },
  {
   "cell_type": "code",
   "execution_count": null,
   "id": "independent-decrease",
   "metadata": {},
   "outputs": [],
   "source": []
  }
 ],
 "metadata": {
  "kernelspec": {
   "display_name": "Python 3",
   "language": "python",
   "name": "python3"
  },
  "language_info": {
   "codemirror_mode": {
    "name": "ipython",
    "version": 3
   },
   "file_extension": ".py",
   "mimetype": "text/x-python",
   "name": "python",
   "nbconvert_exporter": "python",
   "pygments_lexer": "ipython3",
   "version": "3.6.7"
  }
 },
 "nbformat": 4,
 "nbformat_minor": 5
}
